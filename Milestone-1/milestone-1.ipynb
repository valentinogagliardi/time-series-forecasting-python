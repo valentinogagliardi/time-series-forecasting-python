{
 "cells": [
  {
   "cell_type": "code",
   "execution_count": 75,
   "id": "initial_id",
   "metadata": {
    "collapsed": true,
    "ExecuteTime": {
     "end_time": "2023-09-13T08:17:30.509229581Z",
     "start_time": "2023-09-13T08:17:30.419988861Z"
    }
   },
   "outputs": [],
   "source": [
    "import pandas as pd\n",
    "\n",
    "temperature = pd.read_csv('hr_temp_20170201-20200131_subset.csv', parse_dates=['DATE'])\n",
    "energy = pd.read_csv('hrl_load_metered - 20170201-20200131.csv', parse_dates=['datetime_beginning_ept'])"
   ]
  },
  {
   "cell_type": "code",
   "execution_count": 76,
   "outputs": [
    {
     "data": {
      "text/plain": "  datetime_beginning_utc datetime_beginning_ept nerc_region mkt_region zone  \\\n0          2/1/2017 5:00    2017-02-01 00:00:00         RFC       WEST  DUQ   \n1          2/1/2017 6:00    2017-02-01 01:00:00         RFC       WEST  DUQ   \n2          2/1/2017 7:00    2017-02-01 02:00:00         RFC       WEST  DUQ   \n3          2/1/2017 8:00    2017-02-01 03:00:00         RFC       WEST  DUQ   \n4          2/1/2017 9:00    2017-02-01 04:00:00         RFC       WEST  DUQ   \n\n  load_area        mw  is_verified  \n0       DUQ  1419.881         True  \n1       DUQ  1379.505         True  \n2       DUQ  1366.106         True  \n3       DUQ  1364.453         True  \n4       DUQ  1391.265         True  ",
      "text/html": "<div>\n<style scoped>\n    .dataframe tbody tr th:only-of-type {\n        vertical-align: middle;\n    }\n\n    .dataframe tbody tr th {\n        vertical-align: top;\n    }\n\n    .dataframe thead th {\n        text-align: right;\n    }\n</style>\n<table border=\"1\" class=\"dataframe\">\n  <thead>\n    <tr style=\"text-align: right;\">\n      <th></th>\n      <th>datetime_beginning_utc</th>\n      <th>datetime_beginning_ept</th>\n      <th>nerc_region</th>\n      <th>mkt_region</th>\n      <th>zone</th>\n      <th>load_area</th>\n      <th>mw</th>\n      <th>is_verified</th>\n    </tr>\n  </thead>\n  <tbody>\n    <tr>\n      <th>0</th>\n      <td>2/1/2017 5:00</td>\n      <td>2017-02-01 00:00:00</td>\n      <td>RFC</td>\n      <td>WEST</td>\n      <td>DUQ</td>\n      <td>DUQ</td>\n      <td>1419.881</td>\n      <td>True</td>\n    </tr>\n    <tr>\n      <th>1</th>\n      <td>2/1/2017 6:00</td>\n      <td>2017-02-01 01:00:00</td>\n      <td>RFC</td>\n      <td>WEST</td>\n      <td>DUQ</td>\n      <td>DUQ</td>\n      <td>1379.505</td>\n      <td>True</td>\n    </tr>\n    <tr>\n      <th>2</th>\n      <td>2/1/2017 7:00</td>\n      <td>2017-02-01 02:00:00</td>\n      <td>RFC</td>\n      <td>WEST</td>\n      <td>DUQ</td>\n      <td>DUQ</td>\n      <td>1366.106</td>\n      <td>True</td>\n    </tr>\n    <tr>\n      <th>3</th>\n      <td>2/1/2017 8:00</td>\n      <td>2017-02-01 03:00:00</td>\n      <td>RFC</td>\n      <td>WEST</td>\n      <td>DUQ</td>\n      <td>DUQ</td>\n      <td>1364.453</td>\n      <td>True</td>\n    </tr>\n    <tr>\n      <th>4</th>\n      <td>2/1/2017 9:00</td>\n      <td>2017-02-01 04:00:00</td>\n      <td>RFC</td>\n      <td>WEST</td>\n      <td>DUQ</td>\n      <td>DUQ</td>\n      <td>1391.265</td>\n      <td>True</td>\n    </tr>\n  </tbody>\n</table>\n</div>"
     },
     "execution_count": 76,
     "metadata": {},
     "output_type": "execute_result"
    }
   ],
   "source": [
    "energy.head()"
   ],
   "metadata": {
    "collapsed": false,
    "ExecuteTime": {
     "end_time": "2023-09-13T08:17:30.558742424Z",
     "start_time": "2023-09-13T08:17:30.514859476Z"
    }
   },
   "id": "8c8b141e72bf3dd4"
  },
  {
   "cell_type": "code",
   "execution_count": 77,
   "outputs": [
    {
     "data": {
      "text/plain": "       STATION                DATE REPORT_TYPE  SOURCE  \\\n0  72520514762 2017-02-01 00:53:00       FM-15       7   \n1  72520514762 2017-02-01 01:53:00       FM-15       7   \n2  72520514762 2017-02-01 02:53:00       FM-15       7   \n3  72520514762 2017-02-01 03:53:00       FM-15       7   \n4  72520514762 2017-02-01 04:53:00       FM-15       7   \n\n   HourlyDryBulbTemperature  \n0                      37.0  \n1                      37.0  \n2                      36.0  \n3                      36.0  \n4                      36.0  ",
      "text/html": "<div>\n<style scoped>\n    .dataframe tbody tr th:only-of-type {\n        vertical-align: middle;\n    }\n\n    .dataframe tbody tr th {\n        vertical-align: top;\n    }\n\n    .dataframe thead th {\n        text-align: right;\n    }\n</style>\n<table border=\"1\" class=\"dataframe\">\n  <thead>\n    <tr style=\"text-align: right;\">\n      <th></th>\n      <th>STATION</th>\n      <th>DATE</th>\n      <th>REPORT_TYPE</th>\n      <th>SOURCE</th>\n      <th>HourlyDryBulbTemperature</th>\n    </tr>\n  </thead>\n  <tbody>\n    <tr>\n      <th>0</th>\n      <td>72520514762</td>\n      <td>2017-02-01 00:53:00</td>\n      <td>FM-15</td>\n      <td>7</td>\n      <td>37.0</td>\n    </tr>\n    <tr>\n      <th>1</th>\n      <td>72520514762</td>\n      <td>2017-02-01 01:53:00</td>\n      <td>FM-15</td>\n      <td>7</td>\n      <td>37.0</td>\n    </tr>\n    <tr>\n      <th>2</th>\n      <td>72520514762</td>\n      <td>2017-02-01 02:53:00</td>\n      <td>FM-15</td>\n      <td>7</td>\n      <td>36.0</td>\n    </tr>\n    <tr>\n      <th>3</th>\n      <td>72520514762</td>\n      <td>2017-02-01 03:53:00</td>\n      <td>FM-15</td>\n      <td>7</td>\n      <td>36.0</td>\n    </tr>\n    <tr>\n      <th>4</th>\n      <td>72520514762</td>\n      <td>2017-02-01 04:53:00</td>\n      <td>FM-15</td>\n      <td>7</td>\n      <td>36.0</td>\n    </tr>\n  </tbody>\n</table>\n</div>"
     },
     "execution_count": 77,
     "metadata": {},
     "output_type": "execute_result"
    }
   ],
   "source": [
    "temperature.head()"
   ],
   "metadata": {
    "collapsed": false,
    "ExecuteTime": {
     "end_time": "2023-09-13T08:17:30.559253852Z",
     "start_time": "2023-09-13T08:17:30.556087547Z"
    }
   },
   "id": "1e693df78d2657e1"
  },
  {
   "cell_type": "code",
   "execution_count": 78,
   "outputs": [],
   "source": [
    "# Load the energy and temperature datasets into a single pandas DataFrame that is matched by date\n",
    "df = pd.DataFrame({\n",
    "    'MW': energy['mw'],\n",
    "    'Temp': temperature['HourlyDryBulbTemperature'],\n",
    "    'Date': temperature['DATE'],   \n",
    "})\n",
    "\n",
    "df['hour'] = pd.DatetimeIndex(df['Date']).hour\n",
    "df['day'] = pd.DatetimeIndex(df['Date']).day\n",
    "df['weekday'] = pd.DatetimeIndex(df['Date']).weekday\n",
    "df['month'] = pd.DatetimeIndex(df['Date']).month\n",
    "df['year'] = pd.DatetimeIndex(df['Date']).year\n",
    "\n",
    "df.set_index('Date', inplace=True)"
   ],
   "metadata": {
    "collapsed": false,
    "ExecuteTime": {
     "end_time": "2023-09-13T08:17:30.559380873Z",
     "start_time": "2023-09-13T08:17:30.556239268Z"
    }
   },
   "id": "5d52c77f0d6b5af0"
  },
  {
   "cell_type": "code",
   "execution_count": 79,
   "outputs": [
    {
     "data": {
      "text/plain": "                           MW  Temp  hour  day  weekday  month  year\nDate                                                                \n2018-10-25 12:53:00  1569.389   NaN    12   25        3     10  2018\n2018-12-25 02:53:00  1269.577   NaN     2   25        1     12  2018\n2018-12-25 03:53:00  1263.540   NaN     3   25        1     12  2018\n2018-12-25 04:53:00  1271.892   NaN     4   25        1     12  2018\n2018-12-25 05:53:00  1304.021   NaN     5   25        1     12  2018\n2018-12-25 06:53:00  1340.344   NaN     6   25        1     12  2018\n2018-12-25 07:53:00  1380.992   NaN     7   25        1     12  2018\n2018-12-25 08:53:00  1395.445   NaN     8   25        1     12  2018\n2018-12-25 09:53:00  1422.708   NaN     9   25        1     12  2018\n2018-12-25 10:53:00  1438.822   NaN    10   25        1     12  2018\n2018-12-25 11:53:00  1413.274   NaN    11   25        1     12  2018\n2018-12-25 12:53:00  1394.176   NaN    12   25        1     12  2018\n2018-12-25 13:53:00  1375.023   NaN    13   25        1     12  2018\n2018-12-25 14:53:00  1354.344   NaN    14   25        1     12  2018\n2018-12-25 15:53:00  1348.573   NaN    15   25        1     12  2018\n2018-12-25 16:53:00  1379.544   NaN    16   25        1     12  2018\n2018-12-25 17:53:00  1455.665   NaN    17   25        1     12  2018\n2018-12-25 18:53:00  1462.390   NaN    18   25        1     12  2018\n2018-12-25 19:53:00  1462.030   NaN    19   25        1     12  2018\n2018-12-25 20:53:00  1461.466   NaN    20   25        1     12  2018\n2018-12-25 21:53:00  1448.051   NaN    21   25        1     12  2018\n2018-12-25 22:53:00  1406.473   NaN    22   25        1     12  2018\n2018-12-25 23:53:00  1345.258   NaN    23   25        1     12  2018\n2018-12-26 00:53:00  1301.272   NaN     0   26        2     12  2018\n2018-12-26 01:53:00  1267.715   NaN     1   26        2     12  2018\n2018-12-26 02:53:00  1264.119   NaN     2   26        2     12  2018\n2018-12-26 03:53:00  1259.701   NaN     3   26        2     12  2018\n2018-12-26 04:53:00  1279.052   NaN     4   26        2     12  2018\n2018-12-26 05:53:00  1332.444   NaN     5   26        2     12  2018\n2018-12-26 08:53:00  1526.808   NaN     8   26        2     12  2018\n2018-12-26 09:53:00  1558.543   NaN     9   26        2     12  2018\n2018-12-26 10:53:00  1564.532   NaN    10   26        2     12  2018\n2018-12-26 11:53:00  1543.588   NaN    11   26        2     12  2018\n2019-05-26 01:53:00  1216.115   NaN     1   26        6      5  2019\n2019-05-26 02:53:00  1174.187   NaN     2   26        6      5  2019\n2019-05-26 03:53:00  1161.376   NaN     3   26        6      5  2019\n2019-05-26 07:53:00  1330.041   NaN     7   26        6      5  2019",
      "text/html": "<div>\n<style scoped>\n    .dataframe tbody tr th:only-of-type {\n        vertical-align: middle;\n    }\n\n    .dataframe tbody tr th {\n        vertical-align: top;\n    }\n\n    .dataframe thead th {\n        text-align: right;\n    }\n</style>\n<table border=\"1\" class=\"dataframe\">\n  <thead>\n    <tr style=\"text-align: right;\">\n      <th></th>\n      <th>MW</th>\n      <th>Temp</th>\n      <th>hour</th>\n      <th>day</th>\n      <th>weekday</th>\n      <th>month</th>\n      <th>year</th>\n    </tr>\n    <tr>\n      <th>Date</th>\n      <th></th>\n      <th></th>\n      <th></th>\n      <th></th>\n      <th></th>\n      <th></th>\n      <th></th>\n    </tr>\n  </thead>\n  <tbody>\n    <tr>\n      <th>2018-10-25 12:53:00</th>\n      <td>1569.389</td>\n      <td>NaN</td>\n      <td>12</td>\n      <td>25</td>\n      <td>3</td>\n      <td>10</td>\n      <td>2018</td>\n    </tr>\n    <tr>\n      <th>2018-12-25 02:53:00</th>\n      <td>1269.577</td>\n      <td>NaN</td>\n      <td>2</td>\n      <td>25</td>\n      <td>1</td>\n      <td>12</td>\n      <td>2018</td>\n    </tr>\n    <tr>\n      <th>2018-12-25 03:53:00</th>\n      <td>1263.540</td>\n      <td>NaN</td>\n      <td>3</td>\n      <td>25</td>\n      <td>1</td>\n      <td>12</td>\n      <td>2018</td>\n    </tr>\n    <tr>\n      <th>2018-12-25 04:53:00</th>\n      <td>1271.892</td>\n      <td>NaN</td>\n      <td>4</td>\n      <td>25</td>\n      <td>1</td>\n      <td>12</td>\n      <td>2018</td>\n    </tr>\n    <tr>\n      <th>2018-12-25 05:53:00</th>\n      <td>1304.021</td>\n      <td>NaN</td>\n      <td>5</td>\n      <td>25</td>\n      <td>1</td>\n      <td>12</td>\n      <td>2018</td>\n    </tr>\n    <tr>\n      <th>2018-12-25 06:53:00</th>\n      <td>1340.344</td>\n      <td>NaN</td>\n      <td>6</td>\n      <td>25</td>\n      <td>1</td>\n      <td>12</td>\n      <td>2018</td>\n    </tr>\n    <tr>\n      <th>2018-12-25 07:53:00</th>\n      <td>1380.992</td>\n      <td>NaN</td>\n      <td>7</td>\n      <td>25</td>\n      <td>1</td>\n      <td>12</td>\n      <td>2018</td>\n    </tr>\n    <tr>\n      <th>2018-12-25 08:53:00</th>\n      <td>1395.445</td>\n      <td>NaN</td>\n      <td>8</td>\n      <td>25</td>\n      <td>1</td>\n      <td>12</td>\n      <td>2018</td>\n    </tr>\n    <tr>\n      <th>2018-12-25 09:53:00</th>\n      <td>1422.708</td>\n      <td>NaN</td>\n      <td>9</td>\n      <td>25</td>\n      <td>1</td>\n      <td>12</td>\n      <td>2018</td>\n    </tr>\n    <tr>\n      <th>2018-12-25 10:53:00</th>\n      <td>1438.822</td>\n      <td>NaN</td>\n      <td>10</td>\n      <td>25</td>\n      <td>1</td>\n      <td>12</td>\n      <td>2018</td>\n    </tr>\n    <tr>\n      <th>2018-12-25 11:53:00</th>\n      <td>1413.274</td>\n      <td>NaN</td>\n      <td>11</td>\n      <td>25</td>\n      <td>1</td>\n      <td>12</td>\n      <td>2018</td>\n    </tr>\n    <tr>\n      <th>2018-12-25 12:53:00</th>\n      <td>1394.176</td>\n      <td>NaN</td>\n      <td>12</td>\n      <td>25</td>\n      <td>1</td>\n      <td>12</td>\n      <td>2018</td>\n    </tr>\n    <tr>\n      <th>2018-12-25 13:53:00</th>\n      <td>1375.023</td>\n      <td>NaN</td>\n      <td>13</td>\n      <td>25</td>\n      <td>1</td>\n      <td>12</td>\n      <td>2018</td>\n    </tr>\n    <tr>\n      <th>2018-12-25 14:53:00</th>\n      <td>1354.344</td>\n      <td>NaN</td>\n      <td>14</td>\n      <td>25</td>\n      <td>1</td>\n      <td>12</td>\n      <td>2018</td>\n    </tr>\n    <tr>\n      <th>2018-12-25 15:53:00</th>\n      <td>1348.573</td>\n      <td>NaN</td>\n      <td>15</td>\n      <td>25</td>\n      <td>1</td>\n      <td>12</td>\n      <td>2018</td>\n    </tr>\n    <tr>\n      <th>2018-12-25 16:53:00</th>\n      <td>1379.544</td>\n      <td>NaN</td>\n      <td>16</td>\n      <td>25</td>\n      <td>1</td>\n      <td>12</td>\n      <td>2018</td>\n    </tr>\n    <tr>\n      <th>2018-12-25 17:53:00</th>\n      <td>1455.665</td>\n      <td>NaN</td>\n      <td>17</td>\n      <td>25</td>\n      <td>1</td>\n      <td>12</td>\n      <td>2018</td>\n    </tr>\n    <tr>\n      <th>2018-12-25 18:53:00</th>\n      <td>1462.390</td>\n      <td>NaN</td>\n      <td>18</td>\n      <td>25</td>\n      <td>1</td>\n      <td>12</td>\n      <td>2018</td>\n    </tr>\n    <tr>\n      <th>2018-12-25 19:53:00</th>\n      <td>1462.030</td>\n      <td>NaN</td>\n      <td>19</td>\n      <td>25</td>\n      <td>1</td>\n      <td>12</td>\n      <td>2018</td>\n    </tr>\n    <tr>\n      <th>2018-12-25 20:53:00</th>\n      <td>1461.466</td>\n      <td>NaN</td>\n      <td>20</td>\n      <td>25</td>\n      <td>1</td>\n      <td>12</td>\n      <td>2018</td>\n    </tr>\n    <tr>\n      <th>2018-12-25 21:53:00</th>\n      <td>1448.051</td>\n      <td>NaN</td>\n      <td>21</td>\n      <td>25</td>\n      <td>1</td>\n      <td>12</td>\n      <td>2018</td>\n    </tr>\n    <tr>\n      <th>2018-12-25 22:53:00</th>\n      <td>1406.473</td>\n      <td>NaN</td>\n      <td>22</td>\n      <td>25</td>\n      <td>1</td>\n      <td>12</td>\n      <td>2018</td>\n    </tr>\n    <tr>\n      <th>2018-12-25 23:53:00</th>\n      <td>1345.258</td>\n      <td>NaN</td>\n      <td>23</td>\n      <td>25</td>\n      <td>1</td>\n      <td>12</td>\n      <td>2018</td>\n    </tr>\n    <tr>\n      <th>2018-12-26 00:53:00</th>\n      <td>1301.272</td>\n      <td>NaN</td>\n      <td>0</td>\n      <td>26</td>\n      <td>2</td>\n      <td>12</td>\n      <td>2018</td>\n    </tr>\n    <tr>\n      <th>2018-12-26 01:53:00</th>\n      <td>1267.715</td>\n      <td>NaN</td>\n      <td>1</td>\n      <td>26</td>\n      <td>2</td>\n      <td>12</td>\n      <td>2018</td>\n    </tr>\n    <tr>\n      <th>2018-12-26 02:53:00</th>\n      <td>1264.119</td>\n      <td>NaN</td>\n      <td>2</td>\n      <td>26</td>\n      <td>2</td>\n      <td>12</td>\n      <td>2018</td>\n    </tr>\n    <tr>\n      <th>2018-12-26 03:53:00</th>\n      <td>1259.701</td>\n      <td>NaN</td>\n      <td>3</td>\n      <td>26</td>\n      <td>2</td>\n      <td>12</td>\n      <td>2018</td>\n    </tr>\n    <tr>\n      <th>2018-12-26 04:53:00</th>\n      <td>1279.052</td>\n      <td>NaN</td>\n      <td>4</td>\n      <td>26</td>\n      <td>2</td>\n      <td>12</td>\n      <td>2018</td>\n    </tr>\n    <tr>\n      <th>2018-12-26 05:53:00</th>\n      <td>1332.444</td>\n      <td>NaN</td>\n      <td>5</td>\n      <td>26</td>\n      <td>2</td>\n      <td>12</td>\n      <td>2018</td>\n    </tr>\n    <tr>\n      <th>2018-12-26 08:53:00</th>\n      <td>1526.808</td>\n      <td>NaN</td>\n      <td>8</td>\n      <td>26</td>\n      <td>2</td>\n      <td>12</td>\n      <td>2018</td>\n    </tr>\n    <tr>\n      <th>2018-12-26 09:53:00</th>\n      <td>1558.543</td>\n      <td>NaN</td>\n      <td>9</td>\n      <td>26</td>\n      <td>2</td>\n      <td>12</td>\n      <td>2018</td>\n    </tr>\n    <tr>\n      <th>2018-12-26 10:53:00</th>\n      <td>1564.532</td>\n      <td>NaN</td>\n      <td>10</td>\n      <td>26</td>\n      <td>2</td>\n      <td>12</td>\n      <td>2018</td>\n    </tr>\n    <tr>\n      <th>2018-12-26 11:53:00</th>\n      <td>1543.588</td>\n      <td>NaN</td>\n      <td>11</td>\n      <td>26</td>\n      <td>2</td>\n      <td>12</td>\n      <td>2018</td>\n    </tr>\n    <tr>\n      <th>2019-05-26 01:53:00</th>\n      <td>1216.115</td>\n      <td>NaN</td>\n      <td>1</td>\n      <td>26</td>\n      <td>6</td>\n      <td>5</td>\n      <td>2019</td>\n    </tr>\n    <tr>\n      <th>2019-05-26 02:53:00</th>\n      <td>1174.187</td>\n      <td>NaN</td>\n      <td>2</td>\n      <td>26</td>\n      <td>6</td>\n      <td>5</td>\n      <td>2019</td>\n    </tr>\n    <tr>\n      <th>2019-05-26 03:53:00</th>\n      <td>1161.376</td>\n      <td>NaN</td>\n      <td>3</td>\n      <td>26</td>\n      <td>6</td>\n      <td>5</td>\n      <td>2019</td>\n    </tr>\n    <tr>\n      <th>2019-05-26 07:53:00</th>\n      <td>1330.041</td>\n      <td>NaN</td>\n      <td>7</td>\n      <td>26</td>\n      <td>6</td>\n      <td>5</td>\n      <td>2019</td>\n    </tr>\n  </tbody>\n</table>\n</div>"
     },
     "execution_count": 79,
     "metadata": {},
     "output_type": "execute_result"
    }
   ],
   "source": [
    "# Let's use boolean indexing to find null values\n",
    "\n",
    "df[df['Temp'].isnull()]"
   ],
   "metadata": {
    "collapsed": false,
    "ExecuteTime": {
     "end_time": "2023-09-13T08:17:30.560111109Z",
     "start_time": "2023-09-13T08:17:30.556301315Z"
    }
   },
   "id": "c560381f11b8386f"
  },
  {
   "cell_type": "code",
   "execution_count": 80,
   "outputs": [],
   "source": [
    "df.interpolate(inplace=True)"
   ],
   "metadata": {
    "collapsed": false,
    "ExecuteTime": {
     "end_time": "2023-09-13T08:17:30.560307039Z",
     "start_time": "2023-09-13T08:17:30.556455463Z"
    }
   },
   "id": "835ed38d912f1c62"
  },
  {
   "cell_type": "code",
   "execution_count": 81,
   "outputs": [
    {
     "data": {
      "text/plain": "Empty DataFrame\nColumns: [MW, Temp, hour, day, weekday, month, year]\nIndex: []",
      "text/html": "<div>\n<style scoped>\n    .dataframe tbody tr th:only-of-type {\n        vertical-align: middle;\n    }\n\n    .dataframe tbody tr th {\n        vertical-align: top;\n    }\n\n    .dataframe thead th {\n        text-align: right;\n    }\n</style>\n<table border=\"1\" class=\"dataframe\">\n  <thead>\n    <tr style=\"text-align: right;\">\n      <th></th>\n      <th>MW</th>\n      <th>Temp</th>\n      <th>hour</th>\n      <th>day</th>\n      <th>weekday</th>\n      <th>month</th>\n      <th>year</th>\n    </tr>\n    <tr>\n      <th>Date</th>\n      <th></th>\n      <th></th>\n      <th></th>\n      <th></th>\n      <th></th>\n      <th></th>\n      <th></th>\n    </tr>\n  </thead>\n  <tbody>\n  </tbody>\n</table>\n</div>"
     },
     "execution_count": 81,
     "metadata": {},
     "output_type": "execute_result"
    }
   ],
   "source": [
    "# Let's verify that we don't have null temperatures anymore\n",
    "df[df['Temp'].isnull()]"
   ],
   "metadata": {
    "collapsed": false,
    "ExecuteTime": {
     "end_time": "2023-09-13T08:17:30.560717504Z",
     "start_time": "2023-09-13T08:17:30.556505721Z"
    }
   },
   "id": "e1432b56f74ba3c6"
  },
  {
   "cell_type": "code",
   "execution_count": 82,
   "outputs": [],
   "source": [
    "# Create a training dataset with values up through 12-31-2019\n",
    "df[df['year'] <= 2019].to_csv(\"training-dataset-up-to-2019.csv\")"
   ],
   "metadata": {
    "collapsed": false,
    "ExecuteTime": {
     "end_time": "2023-09-13T08:17:30.711601105Z",
     "start_time": "2023-09-13T08:17:30.558166708Z"
    }
   },
   "id": "e432113e1fbbf60a"
  },
  {
   "cell_type": "code",
   "execution_count": 83,
   "outputs": [],
   "source": [
    "# Create a testing dataset with values for 2020\n",
    "df[df['year'] == 2020].to_csv(\"testing-dataset-2020.csv\")"
   ],
   "metadata": {
    "collapsed": false,
    "ExecuteTime": {
     "end_time": "2023-09-13T08:17:30.711816299Z",
     "start_time": "2023-09-13T08:17:30.652380456Z"
    }
   },
   "id": "dc565c060ac86359"
  }
 ],
 "metadata": {
  "kernelspec": {
   "display_name": "Python 3",
   "language": "python",
   "name": "python3"
  },
  "language_info": {
   "codemirror_mode": {
    "name": "ipython",
    "version": 2
   },
   "file_extension": ".py",
   "mimetype": "text/x-python",
   "name": "python",
   "nbconvert_exporter": "python",
   "pygments_lexer": "ipython2",
   "version": "2.7.6"
  }
 },
 "nbformat": 4,
 "nbformat_minor": 5
}
